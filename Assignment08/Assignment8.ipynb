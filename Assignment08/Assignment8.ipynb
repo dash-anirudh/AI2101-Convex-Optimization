{
 "cells": [
  {
   "cell_type": "code",
   "execution_count": 1,
   "metadata": {},
   "outputs": [],
   "source": [
    "import numpy as np\n",
    "import pandas as pd\n",
    "import matplotlib\n",
    "import matplotlib.pyplot as plt\n",
    "COLORS = [\"#348ABD\", \"#A60628\", \"#7A68A6\", \"#467821\", \"#D55E00\", \"#CC79A7\", \"#56B4E9\", \"#009E73\", \"#F0E442\", \"#0072B2\"]\n",
    "matplotlib.rcParams['axes.prop_cycle'] = matplotlib.cycler(color=COLORS)"
   ]
  },
  {
   "cell_type": "code",
   "execution_count": 2,
   "metadata": {},
   "outputs": [],
   "source": [
    "def steepestDescentLinearSystemEquations(matrix, vector, tolerance, max_iterations):\n",
    "    \"\"\"\n",
    "    Solve a linear system of equations using the steepest descent method.\n",
    "\n",
    "    Parameters\n",
    "    ----------\n",
    "    matrix : numpy.ndarray\n",
    "        A square matrix of size n x n.\n",
    "    vector : numpy.ndarray\n",
    "        A vector of size n.\n",
    "    tolerance : float\n",
    "        The tolerance for the stopping criterion.\n",
    "    max_iterations : int\n",
    "        The maximum number of iterations to perform if the stopping criterion is not met.\n",
    "\n",
    "    Returns\n",
    "    -------\n",
    "    optima : numpy.ndarray\n",
    "        The solution of the linear system of equations.\n",
    "    cache : tuple or None\n",
    "        The cache is returned for the purpose of accessing the values of the \n",
    "        local variables of the algorithm for purposes like plotting or debugging.\n",
    "    \"\"\"\n",
    "\n",
    "    if np.min(np.linalg.eigvals(matrix)) <= 0:\n",
    "        raise ValueError(\"The matrix is not positive definite.\")\n",
    "\n",
    "    gradient = lambda x: matrix @ x - vector                    # Calculated the gradient of {1\\over 2}x^TAx - b^Tx with respect to x\n",
    "    iterator = np.random.rand(matrix.shape[0]).reshape(-1, 1)   # Initialize the iterator\n",
    "\n",
    "    iterators = []\n",
    "    gradient_norms = []\n",
    "    \n",
    "    for i in range(max_iterations):\n",
    "        gradient_ = gradient(iterator)                       # Calculate the gradient\n",
    "        gradient_squared_norm = np.sum(gradient_ ** 2)       # Calculate the squared norm of the gradient\n",
    "        if np.sqrt(gradient_squared_norm) < tolerance:       # Check if the stopping criterion is met\n",
    "            break\n",
    "        \n",
    "        alpha = gradient_squared_norm / (gradient_.T @ matrix @ gradient_ + 1e-8) # alpha = \\nabla f(x)^T \\nabla f(x) / \\nabla f(x)^T A \\nabla f(x)\n",
    "        iterator = iterator - alpha * gradient(iterator)                          # Update Equation\n",
    "        \n",
    "        iterators.append(iterator.copy())\n",
    "        gradient_norms.append(np.sqrt(gradient_squared_norm))\n",
    "\n",
    "    cache = {\"Iterator\": iterators,\n",
    "             \"Gradient Norm\": gradient_norms}\n",
    "    return iterator, cache"
   ]
  },
  {
   "cell_type": "code",
   "execution_count": 3,
   "metadata": {},
   "outputs": [],
   "source": [
    "def generateRandomSparsePSDSymmetricMatrix(size, density):\n",
    "    \"\"\"\n",
    "    Generate a random sparse PSD Symmetric matrix.\n",
    "    \n",
    "    Parameters\n",
    "    ----------\n",
    "    size : int\n",
    "        The size of the matrix.\n",
    "\n",
    "    density : float\n",
    "        The density of the generated matrix, density equal to one means a \n",
    "        full matrix, density of 0 means a matrix with no non-zero items.\n",
    "    \n",
    "    Returns\n",
    "    -------\n",
    "    sparse_symmetric_matrix : numpy.ndarray\n",
    "        Symmetric n x n matrix with random values.\n",
    "    cache : tuple or None\n",
    "        The cache is returned for the purpose of accessing the values of the \n",
    "        local variables of the algorithm for purposes like plotting or debugging.\n",
    "    \"\"\"\n",
    "\n",
    "    matrix = np.random.rand(size, size)            # Generating a random matrix\n",
    "    mask = np.random.rand(size, size) < density    # Generating a mask\n",
    "    matrix = matrix * mask                         # Applying the mask\n",
    "    matrix = matrix + matrix.T                     # Making the matrix symmetric\n",
    "\n",
    "    lowest_eigenval = np.min(np.linalg.eigvals(matrix))          # Finding the lowest eigenvalue of the matrix\n",
    "    matrix = matrix + 2 * np.eye(size) * np.abs(lowest_eigenval) # Making the matrix positive definite\n",
    "\n",
    "    return matrix, None"
   ]
  },
  {
   "cell_type": "code",
   "execution_count": 4,
   "metadata": {},
   "outputs": [],
   "source": [
    "def generateSymmetricMatrixwithZeroDeterminant(size):\n",
    "    \"\"\"\n",
    "    Generate a symmetric matrix with a zero determinant.\n",
    "    \n",
    "    Parameters\n",
    "    ----------\n",
    "    size : int\n",
    "        The size of the matrix.\n",
    "    \n",
    "    Returns\n",
    "    -------\n",
    "    matrix : numpy.ndarray\n",
    "        Symmetric n x n matrix with a zero determinant.\n",
    "    cache : tuple or None\n",
    "        The cache is returned for the purpose of accessing the values of the \n",
    "        local variables of the algorithm for purposes like plotting or debugging.\n",
    "    \"\"\"\n",
    "\n",
    "    matrix = np.random.rand(size, size)        # Generating a random matrix\n",
    "    mask = np.random.rand(size, size) < 0.5    # Generating a mask\n",
    "    matrix = matrix * mask                     # Applying the mask\n",
    "    \n",
    "    matrix = matrix + matrix.T                 # Making the matrix symmetric\n",
    "    matrix[:, -1] = matrix[:, :-1].sum(axis=1) # Making the determinant of the matrix zero\n",
    "\n",
    "    return matrix, None"
   ]
  },
  {
   "cell_type": "code",
   "execution_count": 5,
   "metadata": {},
   "outputs": [],
   "source": [
    "def generateRandomSparseVector(size, density):\n",
    "    \"\"\"\n",
    "    Generate a random sparse vector.\n",
    "\n",
    "    Parameters\n",
    "    ----------\n",
    "    size : int\n",
    "        The size of the vector.\n",
    "    \n",
    "    density : float\n",
    "        The density of the generated vector, density equal to one means a \n",
    "        full vector, density of 0 means a vector with no non-zero items.\n",
    "    \n",
    "    Returns\n",
    "    -------\n",
    "    sparse_vector numpy.ndarray\n",
    "        Vector of size n with random values.\n",
    "    cache : tuple or None\n",
    "        The cache is returned for the purpose of accessing the values of the \n",
    "        local variables of the algorithm for purposes like plotting or debugging.\n",
    "    \"\"\"\n",
    "\n",
    "    vector = np.random.rand(size)           # Generating a random vector\n",
    "    mask = np.random.rand(size) < density   # Generating a mask to make the vector sparse\n",
    "    vector = vector * mask\n",
    "    vector = vector.reshape(-1, 1)\n",
    "\n",
    "    return vector, None"
   ]
  },
  {
   "cell_type": "code",
   "execution_count": 6,
   "metadata": {},
   "outputs": [],
   "source": [
    "A, _ = generateRandomSparsePSDSymmetricMatrix(5, 0.2) \n",
    "# A, _ = generateSymmetricMatrixwithZeroDeterminant(5)\n",
    "b, _ = generateRandomSparseVector(5, 0.5)"
   ]
  },
  {
   "cell_type": "code",
   "execution_count": 7,
   "metadata": {},
   "outputs": [
    {
     "name": "stdout",
     "output_type": "stream",
     "text": [
      "Matrix A:\n",
      "[[0.92633961 0.         0.37146363 0.24240515 0.        ]\n",
      " [0.         2.18431743 0.         0.40790758 0.61899977]\n",
      " [0.37146363 0.         0.92633961 0.         0.        ]\n",
      " [0.24240515 0.40790758 0.         0.92633961 0.        ]\n",
      " [0.         0.61899977 0.         0.         2.65604161]]\n",
      "Vector b:\n",
      "[[0.73325876]\n",
      " [0.        ]\n",
      " [0.        ]\n",
      " [0.73576761]\n",
      " [0.        ]]\n"
     ]
    }
   ],
   "source": [
    "print(\"Matrix A:\")\n",
    "print(A)\n",
    "print(\"Vector b:\")\n",
    "print(b)"
   ]
  },
  {
   "cell_type": "code",
   "execution_count": 8,
   "metadata": {},
   "outputs": [
    {
     "data": {
      "text/plain": [
       "array([[ 0.73765938],\n",
       "       [-0.13182464],\n",
       "       [-0.29580256],\n",
       "       [ 0.65929108],\n",
       "       [ 0.03072219]])"
      ]
     },
     "execution_count": 8,
     "metadata": {},
     "output_type": "execute_result"
    }
   ],
   "source": [
    "np.linalg.pinv(A) @ b"
   ]
  },
  {
   "cell_type": "code",
   "execution_count": 9,
   "metadata": {},
   "outputs": [
    {
     "name": "stdout",
     "output_type": "stream",
     "text": [
      "Matrix A:\n",
      "[[0.92633961 0.         0.37146363 0.24240515 0.        ]\n",
      " [0.         2.18431743 0.         0.40790758 0.61899977]\n",
      " [0.37146363 0.         0.92633961 0.         0.        ]\n",
      " [0.24240515 0.40790758 0.         0.92633961 0.        ]\n",
      " [0.         0.61899977 0.         0.         2.65604161]]\n",
      "Vector b:\n",
      "[[0.73325876]\n",
      " [0.        ]\n",
      " [0.        ]\n",
      " [0.73576761]\n",
      " [0.        ]]\n"
     ]
    }
   ],
   "source": [
    "print(\"Matrix A:\")\n",
    "print(A)\n",
    "print(\"Vector b:\")\n",
    "print(b)"
   ]
  },
  {
   "cell_type": "code",
   "execution_count": 10,
   "metadata": {},
   "outputs": [],
   "source": [
    "optima, cache = steepestDescentLinearSystemEquations(A, b, 1e-6, 10000)"
   ]
  },
  {
   "cell_type": "code",
   "execution_count": 11,
   "metadata": {},
   "outputs": [
    {
     "name": "stdout",
     "output_type": "stream",
     "text": [
      "Solution by Steepest Descent:  [[ 0.73765784 -0.13182492 -0.29580133  0.65929213  0.03072227]]\n"
     ]
    }
   ],
   "source": [
    "print(\"Solution by Steepest Descent: \", optima.T)"
   ]
  },
  {
   "cell_type": "code",
   "execution_count": 12,
   "metadata": {},
   "outputs": [
    {
     "name": "stdout",
     "output_type": "stream",
     "text": [
      "Solution by Numpy:  [[ 0.73765938 -0.13182464 -0.29580256  0.65929108  0.03072219]]\n",
      "Error:  2.2456252491942087e-06\n"
     ]
    }
   ],
   "source": [
    "optima_obtained_by_numpy = np.linalg.solve(A, b)\n",
    "print(\"Solution by Numpy: \", optima_obtained_by_numpy.T)\n",
    "print(\"Error: \", np.linalg.norm(optima - optima_obtained_by_numpy))"
   ]
  },
  {
   "cell_type": "code",
   "execution_count": 13,
   "metadata": {},
   "outputs": [
    {
     "data": {
      "image/png": "[encoded data removed]",
      "text/plain": [
       "<Figure size 1100x500 with 2 Axes>"
      ]
     },
     "metadata": {},
     "output_type": "display_data"
    }
   ],
   "source": [
    "iterators = cache[\"Iterator\"]\n",
    "gradient_norms = cache[\"Gradient Norm\"]\n",
    "\n",
    "distance_from_optima = [np.linalg.norm(iterator - optima) for iterator in iterators]\n",
    "\n",
    "plt.figure(figsize=(11, 5))\n",
    "\n",
    "plt.subplot(1, 2, 1)\n",
    "plt.plot(distance_from_optima)\n",
    "plt.yscale(\"log\")\n",
    "plt.xlabel(\"Iterations\")\n",
    "plt.ylabel(\"Distance from Optima\")\n",
    "\n",
    "plt.subplot(1, 2, 2)\n",
    "plt.plot(gradient_norms)\n",
    "plt.yscale(\"log\")\n",
    "plt.xlabel(\"Iterations\")\n",
    "plt.ylabel(\"Gradient Norm\")\n",
    "\n",
    "plt.suptitle(\"Convergence of Steepest Descent\")\n",
    "plt.show()"
   ]
  },
  {
   "cell_type": "code",
   "execution_count": null,
   "metadata": {},
   "outputs": [],
   "source": []
  }
 ],
 "metadata": {
  "kernelspec": {
   "display_name": "pytorch_env",
   "language": "python",
   "name": "python3"
  },
  "language_info": {
   "codemirror_mode": {
    "name": "ipython",
    "version": 3
   },
   "file_extension": ".py",
   "mimetype": "text/x-python",
   "name": "python",
   "nbconvert_exporter": "python",
   "pygments_lexer": "ipython3",
   "version": "3.9.13"
  }
 },
 "nbformat": 4,
 "nbformat_minor": 2
}
